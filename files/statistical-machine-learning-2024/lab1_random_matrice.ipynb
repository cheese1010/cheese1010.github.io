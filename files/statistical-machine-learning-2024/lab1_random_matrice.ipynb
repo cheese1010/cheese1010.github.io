{
 "cells": [
  {
   "cell_type": "markdown",
   "metadata": {},
   "source": [
    "# Motivation\n",
    "\n",
    "> Random Matrix is one of the most mysterious objects in mathematics. It is a bridge con- necting linear algebra and probability theory, which is significant for (statistical) machine learning.\n",
    "\n",
    "> In general, both data and the noise imposed on them are treated as random variables sampled from some (unknown) distributions. The main content of this course is about designing distributions for random variables and estimating distributions from their samples.\n",
    "\n",
    "> Before studying the properties of random matrices, let’s start to generate some.\n"
   ]
  },
  {
   "cell_type": "markdown",
   "metadata": {},
   "source": [
    "# Task 1\n",
    "\n",
    "Design a function $f(M,N,a,b)$ to generate a matrix $A = [a_{mn}] \\in [a,b]^{M\\times N}$. Each element of the matrix is a random variable obeying a uniform distribution in the interval $[a,b]$, i.e., $a_{mn} \\sim$ Uniform($[a, b]$)."
   ]
  },
  {
   "cell_type": "markdown",
   "metadata": {},
   "source": [
    "## Solution 1\n",
    "\n",
    "We can use `np.random.uniform(a,b,size=(m,n))` to generate a m $\\times$ n matrix where each element follows $U[a,b]$"
   ]
  },
  {
   "cell_type": "code",
   "execution_count": 10,
   "metadata": {},
   "outputs": [
    {
     "data": {
      "text/plain": [
       "array([[0.7635667 , 0.31655609, 0.91897546],\n",
       "       [0.06051409, 0.65507213, 0.67280552],\n",
       "       [0.4587648 , 0.93090454, 0.81637024],\n",
       "       [0.14153436, 0.3921457 , 0.11930882]])"
      ]
     },
     "execution_count": 10,
     "metadata": {},
     "output_type": "execute_result"
    }
   ],
   "source": [
    "import numpy as np\n",
    "def f(m: int, n: int, a: float, b: float) -> np.ndarray:\n",
    "    \"\"\"\n",
    "    Generate a uniform random matrix\n",
    "    :param m: the number of rows of the matrix\n",
    "    :param n: the number of columns of the matrix\n",
    "    :param a: the lower bound of the uniform distribution\n",
    "    :param b: the upper bound of the uniform distribution\n",
    "    :return:\n",
    "        x in [a, b]^{m x n}, a random matrix\n",
    "    \"\"\"\n",
    "    return np.random.uniform(a, b, size=(m,n))\n",
    "\n",
    "f(4, 3, 0, 1)"
   ]
  },
  {
   "cell_type": "markdown",
   "metadata": {},
   "source": [
    "# Task 2\n",
    "Design a function $g(M, N, p)$ to generate a matrix $A = [a_{mn}] \\in \\{0, 1\\}^{M\\times N}$ , $p \\in [0, 1]$. Each element of the matrix is a random variable obeying a Bernoulli distribution, i.e., $a_{mn} \\sim$ Bernoulli($p$), which means that the probability of $a_{mn} = 1$ is $p$ (equivalently, the probability of $a_{mn} = 0$ is $1−p$)."
   ]
  },
  {
   "cell_type": "markdown",
   "metadata": {},
   "source": [
    "## Solution 2\n",
    "\n",
    "Bernoulli distribution generation is realized by `numpy.random.choice(a, size=None, replace=True, p=None)`:\n",
    "> `a`: If `a` is an integer，then we sample from integer from 0 to`a`-1. If `a` is an array, we sample from this specific array\n",
    "\n",
    "> `size`: The size of our generated data (one number, vector or matrix)\n",
    "\n",
    "> `replace`: Sampling w/ or w/o replacement\n",
    "\n",
    "> `p`: The probability of each sampled element. The size of `p` should be the same as `a`"
   ]
  },
  {
   "cell_type": "code",
   "execution_count": 21,
   "metadata": {},
   "outputs": [
    {
     "data": {
      "text/plain": [
       "array([[0, 0, 1],\n",
       "       [0, 0, 0],\n",
       "       [0, 1, 0],\n",
       "       [1, 0, 1]])"
      ]
     },
     "execution_count": 21,
     "metadata": {},
     "output_type": "execute_result"
    }
   ],
   "source": [
    "import numpy as np\n",
    "def g(m: int, n: int, p: float) -> np.ndarray:\n",
    "    \"\"\"\n",
    "    Generate a Bernoulli random matrix\n",
    "    :param m: the number of rows of the matrix\n",
    "    :param n: the number of columns of the matrix\n",
    "    :param p: in [0, 1], the parameter of the Bernoulli matrix\n",
    "    :return:\n",
    "        x in [a, b]^{m x n}, a random matrix\n",
    "    \"\"\"\n",
    "    return np.random.choice([0, 1], size=(m, n), p=[1-p, p])\n",
    "\n",
    "g(4, 3, 0.5)"
   ]
  },
  {
   "cell_type": "markdown",
   "metadata": {},
   "source": [
    "# Task 3\n",
    "\n",
    "Could you implement $g(M, N, p)$ based on $f (M, N, a, b)$? If yes, design an evaluation method to verify the correctness of your implementation."
   ]
  },
  {
   "cell_type": "markdown",
   "metadata": {},
   "source": [
    "## Solution 3\n",
    "\n",
    "We can first generate a matrix where each element follows $U[0,1]$. If the element $<p$, then under $g(M,N,p)$, this element corresponds to 0, otherwise it corresponds to 1.\n",
    "\n",
    "For verification, we use LLN and Moment Methods: For large $n$, MoM estimator $\\hat p\\overset{p}{\\rightarrow}p$, so for the `mat1` and `mat2` generated by `g` and `g2`, `mat1.sum()/(m*n)` and `mat2.sum()/(m*n)` should be similar and approximately $p$."
   ]
  },
  {
   "cell_type": "code",
   "execution_count": 38,
   "metadata": {},
   "outputs": [
    {
     "data": {
      "text/plain": [
       "(0.39991739, 0.40010684)"
      ]
     },
     "execution_count": 38,
     "metadata": {},
     "output_type": "execute_result"
    }
   ],
   "source": [
    "def g2(m: int, n: int, p: float) -> np.ndarray:\n",
    "    \"\"\"\n",
    "    Generate a Bernoulli random matrix (based on the function of uniform random matrix)\n",
    "    :param m: the number of rows of the matrix\n",
    "    :param n: the number of columns of the matrix\n",
    "    :param p: in [0, 1], the parameter of the Bernoulli matrix\n",
    "    :return:\n",
    "        x in [a, b]^{m x n}, a random matrix\n",
    "    \"\"\"\n",
    "    matrix = f(m, n, 0, 1)\n",
    "    return (matrix < p).astype(int)\n",
    "    \n",
    "g2(4, 3, 0.5)\n",
    "\n",
    "# Verification\n",
    "m, n = 10000, 10000\n",
    "mat1, mat2 = g(m,n,0.4), g2(m,n,0.4)\n",
    "\n",
    "mat1.sum()/(m*n), mat2.sum()/(m*n)"
   ]
  },
  {
   "cell_type": "markdown",
   "metadata": {},
   "source": [
    "# Task 4\n",
    "\n",
    "Design a function $h(M, N, a, b)$ to generate a matrix $A = [a_{mn}] \\in \\{0, 1\\}^{M\\times N}$ , where $a < 0$ and $b > 0$. The elements of the matrix obey the following rule:\n",
    "$$\n",
    "P (a_{mn} \\sim U[a, 0]) = P (a_{mn} ∼ U[0, b]) = 0.5.\n",
    "$$"
   ]
  },
  {
   "cell_type": "markdown",
   "metadata": {},
   "source": [
    "## Solution 4\n",
    "\n",
    "The condition means that each element $a_{mn}$ is either generated with $U[a,0]$ with probability 0.5 or with $U[0,b]$ with probability 0.5."
   ]
  },
  {
   "cell_type": "code",
   "execution_count": 40,
   "metadata": {},
   "outputs": [
    {
     "data": {
      "text/plain": [
       "array([[-1.66341022, -0.03028017,  1.2527392 ],\n",
       "       [ 1.29715263,  1.73610983,  1.98891835],\n",
       "       [-0.86862337,  0.90100233,  1.96599647],\n",
       "       [ 1.87401522, -0.94264801, -1.88108748]])"
      ]
     },
     "execution_count": 40,
     "metadata": {},
     "output_type": "execute_result"
    }
   ],
   "source": [
    "def h(m: int, n: int, a: float, b: float) -> np.ndarray:\n",
    "    \"\"\"\n",
    "    Generate a random matrix\n",
    "    P(x ~ Uniform[a, 0]) = P(x ~ Uniform[b, 0]) = 0.5\n",
    "\n",
    "    :param m: the number of rows of the matrix\n",
    "    :param n: the number of columns of the matrix\n",
    "    :param a: the lower bound of the uniform distribution\n",
    "    :param b: the upper bound of the uniform distribution\n",
    "    :return:\n",
    "        x in [a, b]^{m x n}, a random matrix\n",
    "    \"\"\"\n",
    "    mat1 = f(m, n, a, 0)\n",
    "    mat2 = f(m, n, 0, b)\n",
    "    choice = g(m, n, 0.5)\n",
    "    return np.where(choice == 0, mat1, mat2)\n",
    "\n",
    "h(4, 3, -2, 2)\n"
   ]
  }
 ],
 "metadata": {
  "kernelspec": {
   "display_name": "Python 3",
   "language": "python",
   "name": "python3"
  },
  "language_info": {
   "codemirror_mode": {
    "name": "ipython",
    "version": 3
   },
   "file_extension": ".py",
   "mimetype": "text/x-python",
   "name": "python",
   "nbconvert_exporter": "python",
   "pygments_lexer": "ipython3",
   "version": "3.9.6"
  }
 },
 "nbformat": 4,
 "nbformat_minor": 2
}
